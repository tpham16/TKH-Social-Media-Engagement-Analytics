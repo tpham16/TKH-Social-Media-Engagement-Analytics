{
 "cells": [
  {
   "cell_type": "code",
   "execution_count": 25,
   "metadata": {},
   "outputs": [],
   "source": [
    "import pandas as pd\n",
    "import seaborn as sns\n"
   ]
  },
  {
   "cell_type": "code",
   "execution_count": 29,
   "metadata": {},
   "outputs": [
    {
     "data": {
      "text/html": [
       "<div>\n",
       "<style scoped>\n",
       "    .dataframe tbody tr th:only-of-type {\n",
       "        vertical-align: middle;\n",
       "    }\n",
       "\n",
       "    .dataframe tbody tr th {\n",
       "        vertical-align: top;\n",
       "    }\n",
       "\n",
       "    .dataframe thead th {\n",
       "        text-align: right;\n",
       "    }\n",
       "</style>\n",
       "<table border=\"1\" class=\"dataframe\">\n",
       "  <thead>\n",
       "    <tr style=\"text-align: right;\">\n",
       "      <th></th>\n",
       "      <th>id</th>\n",
       "      <th>Date</th>\n",
       "      <th>User</th>\n",
       "      <th>Tweet</th>\n",
       "      <th>Likes</th>\n",
       "      <th>Comments</th>\n",
       "      <th>Retweets</th>\n",
       "      <th>Views</th>\n",
       "    </tr>\n",
       "  </thead>\n",
       "  <tbody>\n",
       "    <tr>\n",
       "      <th>0</th>\n",
       "      <td>0</td>\n",
       "      <td>2023-04-07 18:01:56+00:00</td>\n",
       "      <td>TheKnowledgeHou</td>\n",
       "      <td>This is your chance to #TapIn to the #TechIndu...</td>\n",
       "      <td>1</td>\n",
       "      <td>0</td>\n",
       "      <td>0</td>\n",
       "      <td>32.0</td>\n",
       "    </tr>\n",
       "    <tr>\n",
       "      <th>1</th>\n",
       "      <td>1</td>\n",
       "      <td>2023-04-06 16:04:44+00:00</td>\n",
       "      <td>TheKnowledgeHou</td>\n",
       "      <td>The Knowledge House is hiring #Career Coaches!...</td>\n",
       "      <td>0</td>\n",
       "      <td>0</td>\n",
       "      <td>0</td>\n",
       "      <td>42.0</td>\n",
       "    </tr>\n",
       "    <tr>\n",
       "      <th>2</th>\n",
       "      <td>2</td>\n",
       "      <td>2023-04-05 18:02:14+00:00</td>\n",
       "      <td>TheKnowledgeHou</td>\n",
       "      <td>Let's give it up to Kwame Bullen, our current ...</td>\n",
       "      <td>2</td>\n",
       "      <td>0</td>\n",
       "      <td>0</td>\n",
       "      <td>54.0</td>\n",
       "    </tr>\n",
       "    <tr>\n",
       "      <th>3</th>\n",
       "      <td>3</td>\n",
       "      <td>2023-04-04 19:31:11+00:00</td>\n",
       "      <td>TheKnowledgeHou</td>\n",
       "      <td>It’s #TechTuesday!\\r\\nJoin us for a #DayintheL...</td>\n",
       "      <td>2</td>\n",
       "      <td>1</td>\n",
       "      <td>1</td>\n",
       "      <td>109.0</td>\n",
       "    </tr>\n",
       "    <tr>\n",
       "      <th>4</th>\n",
       "      <td>4</td>\n",
       "      <td>2023-04-03 19:02:58+00:00</td>\n",
       "      <td>TheKnowledgeHou</td>\n",
       "      <td>TKH is having #OpenHouses at all of our expans...</td>\n",
       "      <td>3</td>\n",
       "      <td>0</td>\n",
       "      <td>0</td>\n",
       "      <td>87.0</td>\n",
       "    </tr>\n",
       "  </tbody>\n",
       "</table>\n",
       "</div>"
      ],
      "text/plain": [
       "   id                       Date             User  \\\n",
       "0   0  2023-04-07 18:01:56+00:00  TheKnowledgeHou   \n",
       "1   1  2023-04-06 16:04:44+00:00  TheKnowledgeHou   \n",
       "2   2  2023-04-05 18:02:14+00:00  TheKnowledgeHou   \n",
       "3   3  2023-04-04 19:31:11+00:00  TheKnowledgeHou   \n",
       "4   4  2023-04-03 19:02:58+00:00  TheKnowledgeHou   \n",
       "\n",
       "                                               Tweet  Likes  Comments  \\\n",
       "0  This is your chance to #TapIn to the #TechIndu...      1         0   \n",
       "1  The Knowledge House is hiring #Career Coaches!...      0         0   \n",
       "2  Let's give it up to Kwame Bullen, our current ...      2         0   \n",
       "3  It’s #TechTuesday!\\r\\nJoin us for a #DayintheL...      2         1   \n",
       "4  TKH is having #OpenHouses at all of our expans...      3         0   \n",
       "\n",
       "   Retweets  Views  \n",
       "0         0   32.0  \n",
       "1         0   42.0  \n",
       "2         0   54.0  \n",
       "3         1  109.0  \n",
       "4         0   87.0  "
      ]
     },
     "execution_count": 29,
     "metadata": {},
     "output_type": "execute_result"
    }
   ],
   "source": [
    "df = pd.read_csv('data/tweets.csv')\n",
    "df.head()"
   ]
  },
  {
   "cell_type": "code",
   "execution_count": null,
   "metadata": {},
   "outputs": [],
   "source": [
    "# drop views columns \n",
    "df.drop('Views', axis=1,inplace=True)\n"
   ]
  },
  {
   "cell_type": "code",
   "execution_count": 40,
   "metadata": {},
   "outputs": [],
   "source": [
    "# drop user column\n",
    "df.drop('User', axis=1,inplace=True)"
   ]
  },
  {
   "cell_type": "code",
   "execution_count": 44,
   "metadata": {},
   "outputs": [],
   "source": [
    "# change date format \n",
    "\n",
    "df[\"Date\"] = df[\"Date\"].str.split(\" \", expand=True)"
   ]
  },
  {
   "cell_type": "code",
   "execution_count": 46,
   "metadata": {},
   "outputs": [],
   "source": [
    "df.drop('Time', axis=1,inplace=True)"
   ]
  },
  {
   "cell_type": "code",
   "execution_count": 47,
   "metadata": {},
   "outputs": [
    {
     "data": {
      "text/html": [
       "<div>\n",
       "<style scoped>\n",
       "    .dataframe tbody tr th:only-of-type {\n",
       "        vertical-align: middle;\n",
       "    }\n",
       "\n",
       "    .dataframe tbody tr th {\n",
       "        vertical-align: top;\n",
       "    }\n",
       "\n",
       "    .dataframe thead th {\n",
       "        text-align: right;\n",
       "    }\n",
       "</style>\n",
       "<table border=\"1\" class=\"dataframe\">\n",
       "  <thead>\n",
       "    <tr style=\"text-align: right;\">\n",
       "      <th></th>\n",
       "      <th>id</th>\n",
       "      <th>Date</th>\n",
       "      <th>Tweet</th>\n",
       "      <th>Likes</th>\n",
       "      <th>Comments</th>\n",
       "      <th>Retweets</th>\n",
       "    </tr>\n",
       "  </thead>\n",
       "  <tbody>\n",
       "    <tr>\n",
       "      <th>0</th>\n",
       "      <td>0</td>\n",
       "      <td>2023-04-07</td>\n",
       "      <td>This is your chance to #TapIn to the #TechIndu...</td>\n",
       "      <td>1</td>\n",
       "      <td>0</td>\n",
       "      <td>0</td>\n",
       "    </tr>\n",
       "    <tr>\n",
       "      <th>1</th>\n",
       "      <td>1</td>\n",
       "      <td>2023-04-06</td>\n",
       "      <td>The Knowledge House is hiring #Career Coaches!...</td>\n",
       "      <td>0</td>\n",
       "      <td>0</td>\n",
       "      <td>0</td>\n",
       "    </tr>\n",
       "    <tr>\n",
       "      <th>2</th>\n",
       "      <td>2</td>\n",
       "      <td>2023-04-05</td>\n",
       "      <td>Let's give it up to Kwame Bullen, our current ...</td>\n",
       "      <td>2</td>\n",
       "      <td>0</td>\n",
       "      <td>0</td>\n",
       "    </tr>\n",
       "    <tr>\n",
       "      <th>3</th>\n",
       "      <td>3</td>\n",
       "      <td>2023-04-04</td>\n",
       "      <td>It’s #TechTuesday!\\r\\nJoin us for a #DayintheL...</td>\n",
       "      <td>2</td>\n",
       "      <td>1</td>\n",
       "      <td>1</td>\n",
       "    </tr>\n",
       "    <tr>\n",
       "      <th>4</th>\n",
       "      <td>4</td>\n",
       "      <td>2023-04-03</td>\n",
       "      <td>TKH is having #OpenHouses at all of our expans...</td>\n",
       "      <td>3</td>\n",
       "      <td>0</td>\n",
       "      <td>0</td>\n",
       "    </tr>\n",
       "  </tbody>\n",
       "</table>\n",
       "</div>"
      ],
      "text/plain": [
       "   id        Date                                              Tweet  Likes  \\\n",
       "0   0  2023-04-07  This is your chance to #TapIn to the #TechIndu...      1   \n",
       "1   1  2023-04-06  The Knowledge House is hiring #Career Coaches!...      0   \n",
       "2   2  2023-04-05  Let's give it up to Kwame Bullen, our current ...      2   \n",
       "3   3  2023-04-04  It’s #TechTuesday!\\r\\nJoin us for a #DayintheL...      2   \n",
       "4   4  2023-04-03  TKH is having #OpenHouses at all of our expans...      3   \n",
       "\n",
       "   Comments  Retweets  \n",
       "0         0         0  \n",
       "1         0         0  \n",
       "2         0         0  \n",
       "3         1         1  \n",
       "4         0         0  "
      ]
     },
     "execution_count": 47,
     "metadata": {},
     "output_type": "execute_result"
    }
   ],
   "source": [
    "df.head()"
   ]
  },
  {
   "cell_type": "code",
   "execution_count": 48,
   "metadata": {},
   "outputs": [],
   "source": [
    "df.to_csv('data/tweets.csv', index=False)"
   ]
  },
  {
   "cell_type": "code",
   "execution_count": 49,
   "metadata": {},
   "outputs": [
    {
     "data": {
      "text/plain": [
       "id           int64\n",
       "Date        object\n",
       "Tweet       object\n",
       "Likes        int64\n",
       "Comments     int64\n",
       "Retweets     int64\n",
       "dtype: object"
      ]
     },
     "execution_count": 49,
     "metadata": {},
     "output_type": "execute_result"
    }
   ],
   "source": [
    "df.dtypes"
   ]
  },
  {
   "cell_type": "code",
   "execution_count": 8,
   "metadata": {},
   "outputs": [
    {
     "data": {
      "text/html": [
       "<div>\n",
       "<style scoped>\n",
       "    .dataframe tbody tr th:only-of-type {\n",
       "        vertical-align: middle;\n",
       "    }\n",
       "\n",
       "    .dataframe tbody tr th {\n",
       "        vertical-align: top;\n",
       "    }\n",
       "\n",
       "    .dataframe thead th {\n",
       "        text-align: right;\n",
       "    }\n",
       "</style>\n",
       "<table border=\"1\" class=\"dataframe\">\n",
       "  <thead>\n",
       "    <tr style=\"text-align: right;\">\n",
       "      <th></th>\n",
       "      <th>id</th>\n",
       "      <th>Likes</th>\n",
       "      <th>Comments</th>\n",
       "      <th>Retweets</th>\n",
       "      <th>Views</th>\n",
       "    </tr>\n",
       "  </thead>\n",
       "  <tbody>\n",
       "    <tr>\n",
       "      <th>count</th>\n",
       "      <td>473.0000</td>\n",
       "      <td>473.000000</td>\n",
       "      <td>473.000000</td>\n",
       "      <td>473.000000</td>\n",
       "      <td>63.000000</td>\n",
       "    </tr>\n",
       "    <tr>\n",
       "      <th>mean</th>\n",
       "      <td>236.0000</td>\n",
       "      <td>1.247357</td>\n",
       "      <td>0.050740</td>\n",
       "      <td>0.334038</td>\n",
       "      <td>83.936508</td>\n",
       "    </tr>\n",
       "    <tr>\n",
       "      <th>std</th>\n",
       "      <td>136.6876</td>\n",
       "      <td>1.196799</td>\n",
       "      <td>0.219699</td>\n",
       "      <td>0.743933</td>\n",
       "      <td>108.988883</td>\n",
       "    </tr>\n",
       "    <tr>\n",
       "      <th>min</th>\n",
       "      <td>0.0000</td>\n",
       "      <td>0.000000</td>\n",
       "      <td>0.000000</td>\n",
       "      <td>0.000000</td>\n",
       "      <td>9.000000</td>\n",
       "    </tr>\n",
       "    <tr>\n",
       "      <th>25%</th>\n",
       "      <td>118.0000</td>\n",
       "      <td>1.000000</td>\n",
       "      <td>0.000000</td>\n",
       "      <td>0.000000</td>\n",
       "      <td>45.000000</td>\n",
       "    </tr>\n",
       "    <tr>\n",
       "      <th>50%</th>\n",
       "      <td>236.0000</td>\n",
       "      <td>1.000000</td>\n",
       "      <td>0.000000</td>\n",
       "      <td>0.000000</td>\n",
       "      <td>57.000000</td>\n",
       "    </tr>\n",
       "    <tr>\n",
       "      <th>75%</th>\n",
       "      <td>354.0000</td>\n",
       "      <td>2.000000</td>\n",
       "      <td>0.000000</td>\n",
       "      <td>0.000000</td>\n",
       "      <td>85.000000</td>\n",
       "    </tr>\n",
       "    <tr>\n",
       "      <th>max</th>\n",
       "      <td>472.0000</td>\n",
       "      <td>13.000000</td>\n",
       "      <td>1.000000</td>\n",
       "      <td>7.000000</td>\n",
       "      <td>828.000000</td>\n",
       "    </tr>\n",
       "  </tbody>\n",
       "</table>\n",
       "</div>"
      ],
      "text/plain": [
       "             id       Likes    Comments    Retweets       Views\n",
       "count  473.0000  473.000000  473.000000  473.000000   63.000000\n",
       "mean   236.0000    1.247357    0.050740    0.334038   83.936508\n",
       "std    136.6876    1.196799    0.219699    0.743933  108.988883\n",
       "min      0.0000    0.000000    0.000000    0.000000    9.000000\n",
       "25%    118.0000    1.000000    0.000000    0.000000   45.000000\n",
       "50%    236.0000    1.000000    0.000000    0.000000   57.000000\n",
       "75%    354.0000    2.000000    0.000000    0.000000   85.000000\n",
       "max    472.0000   13.000000    1.000000    7.000000  828.000000"
      ]
     },
     "execution_count": 8,
     "metadata": {},
     "output_type": "execute_result"
    }
   ],
   "source": [
    "df.describe()"
   ]
  },
  {
   "cell_type": "code",
   "execution_count": 9,
   "metadata": {},
   "outputs": [
    {
     "data": {
      "text/plain": [
       "id            0\n",
       "Date          0\n",
       "User          0\n",
       "Tweet         0\n",
       "Likes         0\n",
       "Comments      0\n",
       "Retweets      0\n",
       "Views       410\n",
       "dtype: int64"
      ]
     },
     "execution_count": 9,
     "metadata": {},
     "output_type": "execute_result"
    }
   ],
   "source": [
    "df.isnull().sum()"
   ]
  },
  {
   "cell_type": "code",
   "execution_count": 10,
   "metadata": {},
   "outputs": [
    {
     "data": {
      "text/plain": [
       "id          0\n",
       "Date        0\n",
       "User        0\n",
       "Tweet       0\n",
       "Likes       0\n",
       "Comments    0\n",
       "Retweets    0\n",
       "Views       0\n",
       "dtype: int64"
      ]
     },
     "execution_count": 10,
     "metadata": {},
     "output_type": "execute_result"
    }
   ],
   "source": [
    "# drop null values \n",
    "clean_data = df.dropna()\n",
    "clean_data.isnull().sum()"
   ]
  },
  {
   "cell_type": "code",
   "execution_count": 11,
   "metadata": {},
   "outputs": [
    {
     "data": {
      "text/plain": [
       "<AxesSubplot: xlabel='Likes', ylabel='Count'>"
      ]
     },
     "execution_count": 11,
     "metadata": {},
     "output_type": "execute_result"
    },
    {
     "data": {
      "image/png": "[encoded data removed]",
      "text/plain": [
       "<Figure size 640x480 with 1 Axes>"
      ]
     },
     "metadata": {},
     "output_type": "display_data"
    }
   ],
   "source": [
    "sns.histplot(data=clean_data, x = 'Likes', kde = True)"
   ]
  },
  {
   "cell_type": "code",
   "execution_count": 49,
   "metadata": {},
   "outputs": [
    {
     "name": "stderr",
     "output_type": "stream",
     "text": [
      "C:\\Users\\Tom\\AppData\\Local\\Temp\\ipykernel_22712\\4000022164.py:7: SettingWithCopyWarning: \n",
      "A value is trying to be set on a copy of a slice from a DataFrame.\n",
      "Try using .loc[row_indexer,col_indexer] = value instead\n",
      "\n",
      "See the caveats in the documentation: https://pandas.pydata.org/pandas-docs/stable/user_guide/indexing.html#returning-a-view-versus-a-copy\n",
      "  clean_data['Date'] = pd.to_datetime(clean_data['Date'])\n"
     ]
    },
    {
     "data": {
      "image/png": "[encoded data removed]",
      "text/plain": [
       "<Figure size 1200x600 with 1 Axes>"
      ]
     },
     "metadata": {},
     "output_type": "display_data"
    }
   ],
   "source": [
    "import pandas as pd\n",
    "import seaborn as sns\n",
    "import matplotlib.pyplot as plt\n",
    "import matplotlib.dates as mdates\n",
    "\n",
    "# Convert 'data' column to a datetime object \n",
    "clean_data['Date'] = pd.to_datetime(clean_data['Date'])\n",
    "\n",
    "fig, ax = plt.subplots(figsize=(12, 6))\n",
    "sns.lineplot(data=clean_data, x='Date', y='Likes', ax=ax)\n",
    "\n",
    "date_format = mdates.DateFormatter('%Y-%m-%d')\n",
    "ax.xaxis.set_major_formatter(date_format)\n",
    "plt.xticks(rotation=45)\n",
    "\n",
    "plt.title('Likes over Time')\n",
    "plt.show()\n",
    "\n"
   ]
  },
  {
   "cell_type": "code",
   "execution_count": 65,
   "metadata": {},
   "outputs": [
    {
     "data": {
      "text/html": [
       "<div>\n",
       "<style scoped>\n",
       "    .dataframe tbody tr th:only-of-type {\n",
       "        vertical-align: middle;\n",
       "    }\n",
       "\n",
       "    .dataframe tbody tr th {\n",
       "        vertical-align: top;\n",
       "    }\n",
       "\n",
       "    .dataframe thead th {\n",
       "        text-align: right;\n",
       "    }\n",
       "</style>\n",
       "<table border=\"1\" class=\"dataframe\">\n",
       "  <thead>\n",
       "    <tr style=\"text-align: right;\">\n",
       "      <th></th>\n",
       "      <th>Date</th>\n",
       "      <th>Tweet</th>\n",
       "      <th>Comments</th>\n",
       "    </tr>\n",
       "  </thead>\n",
       "  <tbody>\n",
       "    <tr>\n",
       "      <th>2</th>\n",
       "      <td>2023-04-04 19:31:11+00:00</td>\n",
       "      <td>It’s #TechTuesday!\\r\\nJoin us for a #DayintheL...</td>\n",
       "      <td>1</td>\n",
       "    </tr>\n",
       "    <tr>\n",
       "      <th>0</th>\n",
       "      <td>2023-04-06 16:04:44+00:00</td>\n",
       "      <td>The Knowledge House is hiring #Career Coaches!...</td>\n",
       "      <td>0</td>\n",
       "    </tr>\n",
       "    <tr>\n",
       "      <th>47</th>\n",
       "      <td>2023-01-06 18:03:01+00:00</td>\n",
       "      <td>Heart this post if you can use a nice cup of ☕...</td>\n",
       "      <td>0</td>\n",
       "    </tr>\n",
       "    <tr>\n",
       "      <th>34</th>\n",
       "      <td>2023-02-06 21:17:28+00:00</td>\n",
       "      <td>#BlackHistoryMonth at The Knowledge House is a...</td>\n",
       "      <td>0</td>\n",
       "    </tr>\n",
       "    <tr>\n",
       "      <th>35</th>\n",
       "      <td>2023-01-28 19:10:12+00:00</td>\n",
       "      <td>As we think of #dataprivacyday, we encourage n...</td>\n",
       "      <td>0</td>\n",
       "    </tr>\n",
       "    <tr>\n",
       "      <th>36</th>\n",
       "      <td>2023-01-26 16:11:54+00:00</td>\n",
       "      <td>#Day 2 of #Retreat ! \\r\\n\\r\\n#team #coffeetime...</td>\n",
       "      <td>0</td>\n",
       "    </tr>\n",
       "    <tr>\n",
       "      <th>37</th>\n",
       "      <td>2023-01-25 20:45:02+00:00</td>\n",
       "      <td>#Day1 of #Retreat ! \\r\\n\\r\\n#team #goldenhour ...</td>\n",
       "      <td>0</td>\n",
       "    </tr>\n",
       "    <tr>\n",
       "      <th>38</th>\n",
       "      <td>2023-01-24 19:05:12+00:00</td>\n",
       "      <td>TKH has created V.I.P (The #Volunteer Impact P...</td>\n",
       "      <td>0</td>\n",
       "    </tr>\n",
       "    <tr>\n",
       "      <th>39</th>\n",
       "      <td>2023-01-23 18:00:35+00:00</td>\n",
       "      <td>Our Fellowship Campaign was a resounding succe...</td>\n",
       "      <td>0</td>\n",
       "    </tr>\n",
       "    <tr>\n",
       "      <th>40</th>\n",
       "      <td>2023-01-19 19:05:13+00:00</td>\n",
       "      <td>Looking for potential #apprenticeships this ye...</td>\n",
       "      <td>0</td>\n",
       "    </tr>\n",
       "  </tbody>\n",
       "</table>\n",
       "</div>"
      ],
      "text/plain": [
       "                        Date  \\\n",
       "2  2023-04-04 19:31:11+00:00   \n",
       "0  2023-04-06 16:04:44+00:00   \n",
       "47 2023-01-06 18:03:01+00:00   \n",
       "34 2023-02-06 21:17:28+00:00   \n",
       "35 2023-01-28 19:10:12+00:00   \n",
       "36 2023-01-26 16:11:54+00:00   \n",
       "37 2023-01-25 20:45:02+00:00   \n",
       "38 2023-01-24 19:05:12+00:00   \n",
       "39 2023-01-23 18:00:35+00:00   \n",
       "40 2023-01-19 19:05:13+00:00   \n",
       "\n",
       "                                                Tweet  Comments  \n",
       "2   It’s #TechTuesday!\\r\\nJoin us for a #DayintheL...         1  \n",
       "0   The Knowledge House is hiring #Career Coaches!...         0  \n",
       "47  Heart this post if you can use a nice cup of ☕...         0  \n",
       "34  #BlackHistoryMonth at The Knowledge House is a...         0  \n",
       "35  As we think of #dataprivacyday, we encourage n...         0  \n",
       "36  #Day 2 of #Retreat ! \\r\\n\\r\\n#team #coffeetime...         0  \n",
       "37  #Day1 of #Retreat ! \\r\\n\\r\\n#team #goldenhour ...         0  \n",
       "38  TKH has created V.I.P (The #Volunteer Impact P...         0  \n",
       "39  Our Fellowship Campaign was a resounding succe...         0  \n",
       "40  Looking for potential #apprenticeships this ye...         0  "
      ]
     },
     "execution_count": 65,
     "metadata": {},
     "output_type": "execute_result"
    }
   ],
   "source": [
    "# Most Commented\n",
    "clean_data[['Date', 'Tweet', 'Comments']].sort_values(by='Comments', ascending=False).head(10)\n"
   ]
  },
  {
   "cell_type": "code",
   "execution_count": 66,
   "metadata": {},
   "outputs": [
    {
     "data": {
      "text/html": [
       "<div>\n",
       "<style scoped>\n",
       "    .dataframe tbody tr th:only-of-type {\n",
       "        vertical-align: middle;\n",
       "    }\n",
       "\n",
       "    .dataframe tbody tr th {\n",
       "        vertical-align: top;\n",
       "    }\n",
       "\n",
       "    .dataframe thead th {\n",
       "        text-align: right;\n",
       "    }\n",
       "</style>\n",
       "<table border=\"1\" class=\"dataframe\">\n",
       "  <thead>\n",
       "    <tr style=\"text-align: right;\">\n",
       "      <th></th>\n",
       "      <th>Date</th>\n",
       "      <th>Tweet</th>\n",
       "      <th>Retweets</th>\n",
       "    </tr>\n",
       "  </thead>\n",
       "  <tbody>\n",
       "    <tr>\n",
       "      <th>15</th>\n",
       "      <td>2023-03-17 20:01:19+00:00</td>\n",
       "      <td>The Knowledge House is hiring!\\r\\nCheck out ou...</td>\n",
       "      <td>2</td>\n",
       "    </tr>\n",
       "    <tr>\n",
       "      <th>40</th>\n",
       "      <td>2023-01-19 19:05:13+00:00</td>\n",
       "      <td>Looking for potential #apprenticeships this ye...</td>\n",
       "      <td>1</td>\n",
       "    </tr>\n",
       "    <tr>\n",
       "      <th>2</th>\n",
       "      <td>2023-04-04 19:31:11+00:00</td>\n",
       "      <td>It’s #TechTuesday!\\r\\nJoin us for a #DayintheL...</td>\n",
       "      <td>1</td>\n",
       "    </tr>\n",
       "    <tr>\n",
       "      <th>35</th>\n",
       "      <td>2023-01-28 19:10:12+00:00</td>\n",
       "      <td>As we think of #dataprivacyday, we encourage n...</td>\n",
       "      <td>1</td>\n",
       "    </tr>\n",
       "    <tr>\n",
       "      <th>21</th>\n",
       "      <td>2023-03-08 17:02:36+00:00</td>\n",
       "      <td>Behind every successful woman is a tribe of ot...</td>\n",
       "      <td>1</td>\n",
       "    </tr>\n",
       "    <tr>\n",
       "      <th>55</th>\n",
       "      <td>2022-12-26 18:02:20+00:00</td>\n",
       "      <td>The Knowledge House extends warm greetings and...</td>\n",
       "      <td>1</td>\n",
       "    </tr>\n",
       "    <tr>\n",
       "      <th>25</th>\n",
       "      <td>2023-02-28 20:55:11+00:00</td>\n",
       "      <td>There are many ways to celebrate #BlackHistory...</td>\n",
       "      <td>1</td>\n",
       "    </tr>\n",
       "    <tr>\n",
       "      <th>41</th>\n",
       "      <td>2023-01-17 18:03:09+00:00</td>\n",
       "      <td>@NYCC4H is having a free #healthfair every 2nd...</td>\n",
       "      <td>0</td>\n",
       "    </tr>\n",
       "    <tr>\n",
       "      <th>44</th>\n",
       "      <td>2023-01-11 21:11:28+00:00</td>\n",
       "      <td>@DIYGirls ❤️❤️❤️</td>\n",
       "      <td>0</td>\n",
       "    </tr>\n",
       "    <tr>\n",
       "      <th>43</th>\n",
       "      <td>2023-01-12 20:45:15+00:00</td>\n",
       "      <td>#ThrowbackThursday to when Alex Ortiz, one of ...</td>\n",
       "      <td>0</td>\n",
       "    </tr>\n",
       "  </tbody>\n",
       "</table>\n",
       "</div>"
      ],
      "text/plain": [
       "                        Date  \\\n",
       "15 2023-03-17 20:01:19+00:00   \n",
       "40 2023-01-19 19:05:13+00:00   \n",
       "2  2023-04-04 19:31:11+00:00   \n",
       "35 2023-01-28 19:10:12+00:00   \n",
       "21 2023-03-08 17:02:36+00:00   \n",
       "55 2022-12-26 18:02:20+00:00   \n",
       "25 2023-02-28 20:55:11+00:00   \n",
       "41 2023-01-17 18:03:09+00:00   \n",
       "44 2023-01-11 21:11:28+00:00   \n",
       "43 2023-01-12 20:45:15+00:00   \n",
       "\n",
       "                                                Tweet  Retweets  \n",
       "15  The Knowledge House is hiring!\\r\\nCheck out ou...         2  \n",
       "40  Looking for potential #apprenticeships this ye...         1  \n",
       "2   It’s #TechTuesday!\\r\\nJoin us for a #DayintheL...         1  \n",
       "35  As we think of #dataprivacyday, we encourage n...         1  \n",
       "21  Behind every successful woman is a tribe of ot...         1  \n",
       "55  The Knowledge House extends warm greetings and...         1  \n",
       "25  There are many ways to celebrate #BlackHistory...         1  \n",
       "41  @NYCC4H is having a free #healthfair every 2nd...         0  \n",
       "44                                   @DIYGirls ❤️❤️❤️         0  \n",
       "43  #ThrowbackThursday to when Alex Ortiz, one of ...         0  "
      ]
     },
     "execution_count": 66,
     "metadata": {},
     "output_type": "execute_result"
    }
   ],
   "source": [
    "# Most Retweeted\n",
    "clean_data[['Date', 'Tweet', 'Retweets']].sort_values(by='Retweets', ascending=False).head(10)"
   ]
  },
  {
   "cell_type": "code",
   "execution_count": 67,
   "metadata": {},
   "outputs": [
    {
     "data": {
      "text/html": [
       "<div>\n",
       "<style scoped>\n",
       "    .dataframe tbody tr th:only-of-type {\n",
       "        vertical-align: middle;\n",
       "    }\n",
       "\n",
       "    .dataframe tbody tr th {\n",
       "        vertical-align: top;\n",
       "    }\n",
       "\n",
       "    .dataframe thead th {\n",
       "        text-align: right;\n",
       "    }\n",
       "</style>\n",
       "<table border=\"1\" class=\"dataframe\">\n",
       "  <thead>\n",
       "    <tr style=\"text-align: right;\">\n",
       "      <th></th>\n",
       "      <th>Date</th>\n",
       "      <th>Tweet</th>\n",
       "      <th>Likes</th>\n",
       "    </tr>\n",
       "  </thead>\n",
       "  <tbody>\n",
       "    <tr>\n",
       "      <th>3</th>\n",
       "      <td>2023-04-03 19:02:58+00:00</td>\n",
       "      <td>TKH is having #OpenHouses at all of our expans...</td>\n",
       "      <td>3</td>\n",
       "    </tr>\n",
       "    <tr>\n",
       "      <th>24</th>\n",
       "      <td>2023-03-01 17:02:25+00:00</td>\n",
       "      <td>Meet Emilie Dionisio! She's a passionate #Cybe...</td>\n",
       "      <td>3</td>\n",
       "    </tr>\n",
       "    <tr>\n",
       "      <th>31</th>\n",
       "      <td>2023-02-14 21:15:14+00:00</td>\n",
       "      <td>Sending lots of love to our #UXUI Fellows! Tod...</td>\n",
       "      <td>2</td>\n",
       "    </tr>\n",
       "    <tr>\n",
       "      <th>11</th>\n",
       "      <td>2023-03-22 18:30:30+00:00</td>\n",
       "      <td>Applications are officially open! Both KKCF &amp;a...</td>\n",
       "      <td>2</td>\n",
       "    </tr>\n",
       "    <tr>\n",
       "      <th>30</th>\n",
       "      <td>2023-02-14 22:21:32+00:00</td>\n",
       "      <td>Westchester needs to invest in a more equitabl...</td>\n",
       "      <td>2</td>\n",
       "    </tr>\n",
       "    <tr>\n",
       "      <th>25</th>\n",
       "      <td>2023-02-28 20:55:11+00:00</td>\n",
       "      <td>There are many ways to celebrate #BlackHistory...</td>\n",
       "      <td>2</td>\n",
       "    </tr>\n",
       "    <tr>\n",
       "      <th>21</th>\n",
       "      <td>2023-03-08 17:02:36+00:00</td>\n",
       "      <td>Behind every successful woman is a tribe of ot...</td>\n",
       "      <td>2</td>\n",
       "    </tr>\n",
       "    <tr>\n",
       "      <th>20</th>\n",
       "      <td>2023-03-09 17:02:12+00:00</td>\n",
       "      <td>Rigoberto Obregón for the win! Shout out to ou...</td>\n",
       "      <td>2</td>\n",
       "    </tr>\n",
       "    <tr>\n",
       "      <th>18</th>\n",
       "      <td>2023-03-14 17:20:19+00:00</td>\n",
       "      <td>This weekend our staff had the privilege to at...</td>\n",
       "      <td>2</td>\n",
       "    </tr>\n",
       "    <tr>\n",
       "      <th>45</th>\n",
       "      <td>2023-01-11 18:10:10+00:00</td>\n",
       "      <td>Thank you, @DIYGirls for your interest in expo...</td>\n",
       "      <td>2</td>\n",
       "    </tr>\n",
       "  </tbody>\n",
       "</table>\n",
       "</div>"
      ],
      "text/plain": [
       "                        Date  \\\n",
       "3  2023-04-03 19:02:58+00:00   \n",
       "24 2023-03-01 17:02:25+00:00   \n",
       "31 2023-02-14 21:15:14+00:00   \n",
       "11 2023-03-22 18:30:30+00:00   \n",
       "30 2023-02-14 22:21:32+00:00   \n",
       "25 2023-02-28 20:55:11+00:00   \n",
       "21 2023-03-08 17:02:36+00:00   \n",
       "20 2023-03-09 17:02:12+00:00   \n",
       "18 2023-03-14 17:20:19+00:00   \n",
       "45 2023-01-11 18:10:10+00:00   \n",
       "\n",
       "                                                Tweet  Likes  \n",
       "3   TKH is having #OpenHouses at all of our expans...      3  \n",
       "24  Meet Emilie Dionisio! She's a passionate #Cybe...      3  \n",
       "31  Sending lots of love to our #UXUI Fellows! Tod...      2  \n",
       "11  Applications are officially open! Both KKCF &a...      2  \n",
       "30  Westchester needs to invest in a more equitabl...      2  \n",
       "25  There are many ways to celebrate #BlackHistory...      2  \n",
       "21  Behind every successful woman is a tribe of ot...      2  \n",
       "20  Rigoberto Obregón for the win! Shout out to ou...      2  \n",
       "18  This weekend our staff had the privilege to at...      2  \n",
       "45  Thank you, @DIYGirls for your interest in expo...      2  "
      ]
     },
     "execution_count": 67,
     "metadata": {},
     "output_type": "execute_result"
    }
   ],
   "source": [
    "# Most Liked\n",
    "clean_data[['Date', 'Tweet', 'Likes']].sort_values(by='Likes', ascending=False).head(10)"
   ]
  },
  {
   "cell_type": "code",
   "execution_count": 14,
   "metadata": {},
   "outputs": [
    {
     "data": {
      "text/plain": [
       "<AxesSubplot: xlabel='Comments', ylabel='Count'>"
      ]
     },
     "execution_count": 14,
     "metadata": {},
     "output_type": "execute_result"
    },
    {
     "data": {
      "image/png": "[encoded data removed]",
      "text/plain": [
       "<Figure size 640x480 with 1 Axes>"
      ]
     },
     "metadata": {},
     "output_type": "display_data"
    }
   ],
   "source": [
    "sns.histplot(data=clean_data, x = 'Comments')"
   ]
  },
  {
   "cell_type": "code",
   "execution_count": 15,
   "metadata": {},
   "outputs": [
    {
     "data": {
      "text/plain": [
       "<AxesSubplot: xlabel='Retweets', ylabel='Count'>"
      ]
     },
     "execution_count": 15,
     "metadata": {},
     "output_type": "execute_result"
    },
    {
     "data": {
      "image/png": "[encoded data removed]",
      "text/plain": [
       "<Figure size 640x480 with 1 Axes>"
      ]
     },
     "metadata": {},
     "output_type": "display_data"
    }
   ],
   "source": [
    "sns.histplot(data=clean_data, x = 'Retweets')"
   ]
  },
  {
   "cell_type": "code",
   "execution_count": 69,
   "metadata": {},
   "outputs": [
    {
     "data": {
      "text/plain": [
       "<AxesSubplot: >"
      ]
     },
     "execution_count": 69,
     "metadata": {},
     "output_type": "execute_result"
    },
    {
     "data": {
      "image/png": "[encoded data removed]",
      "text/plain": [
       "<Figure size 640x480 with 1 Axes>"
      ]
     },
     "metadata": {},
     "output_type": "display_data"
    }
   ],
   "source": [
    "# box plot\n",
    "sns.boxplot(clean_data['Likes'])"
   ]
  },
  {
   "cell_type": "code",
   "execution_count": 70,
   "metadata": {},
   "outputs": [
    {
     "data": {
      "text/plain": [
       "<AxesSubplot: >"
      ]
     },
     "execution_count": 70,
     "metadata": {},
     "output_type": "execute_result"
    },
    {
     "data": {
      "image/png": "[encoded data removed]",
      "text/plain": [
       "<Figure size 640x480 with 1 Axes>"
      ]
     },
     "metadata": {},
     "output_type": "display_data"
    }
   ],
   "source": [
    "sns.boxplot(clean_data['Comments'])"
   ]
  },
  {
   "cell_type": "code",
   "execution_count": 12,
   "metadata": {},
   "outputs": [
    {
     "data": {
      "text/plain": [
       "<AxesSubplot: >"
      ]
     },
     "execution_count": 12,
     "metadata": {},
     "output_type": "execute_result"
    },
    {
     "data": {
      "image/png": "[encoded data removed]",
      "text/plain": [
       "<Figure size 640x480 with 1 Axes>"
      ]
     },
     "metadata": {},
     "output_type": "display_data"
    }
   ],
   "source": [
    "sns.boxplot(clean_data['Retweets'])"
   ]
  },
  {
   "cell_type": "code",
   "execution_count": 23,
   "metadata": {},
   "outputs": [
    {
     "name": "stderr",
     "output_type": "stream",
     "text": [
      "C:\\Users\\Tom\\AppData\\Local\\Temp\\ipykernel_39664\\229834111.py:5: DeprecationWarning: Use of keyword argument `alpha` for method `interval` is deprecated. Use first positional argument or keyword argument `confidence` instead.\n",
      "  st.t.interval(alpha=0.90, df=len(clean_data['Likes'])-1, loc=np.mean(clean_data['Likes']), scale=st.sem(clean_data['Likes']))\n"
     ]
    },
    {
     "data": {
      "text/plain": [
       "(0.8448292444061181, 1.1869167873399136)"
      ]
     },
     "execution_count": 23,
     "metadata": {},
     "output_type": "execute_result"
    }
   ],
   "source": [
    "# confidence intervals\n",
    "import numpy as np \n",
    "import scipy.stats as st\n",
    "\n",
    "st.t.interval(alpha=0.90, df=len(clean_data['Likes'])-1, loc=np.mean(clean_data['Likes']), scale=st.sem(clean_data['Likes'])) \n",
    "\n"
   ]
  },
  {
   "cell_type": "code",
   "execution_count": 22,
   "metadata": {},
   "outputs": [
    {
     "name": "stderr",
     "output_type": "stream",
     "text": [
      "C:\\Users\\Tom\\AppData\\Local\\Temp\\ipykernel_39664\\2120312182.py:1: DeprecationWarning: Use of keyword argument `alpha` for method `interval` is deprecated. Use first positional argument or keyword argument `confidence` instead.\n",
      "  st.t.interval(alpha=0.90, df=len(clean_data['Comments'])-1, loc=np.mean(clean_data['Comments']), scale=st.sem(clean_data['Comments']))\n"
     ]
    },
    {
     "data": {
      "text/plain": [
       "(-0.0106318120999449, 0.042377843845976634)"
      ]
     },
     "execution_count": 22,
     "metadata": {},
     "output_type": "execute_result"
    }
   ],
   "source": [
    "st.t.interval(alpha=0.90, df=len(clean_data['Comments'])-1, loc=np.mean(clean_data['Comments']), scale=st.sem(clean_data['Comments'])) "
   ]
  },
  {
   "cell_type": "code",
   "execution_count": 21,
   "metadata": {},
   "outputs": [
    {
     "name": "stderr",
     "output_type": "stream",
     "text": [
      "C:\\Users\\Tom\\AppData\\Local\\Temp\\ipykernel_39664\\729474057.py:1: DeprecationWarning: Use of keyword argument `alpha` for method `interval` is deprecated. Use first positional argument or keyword argument `confidence` instead.\n",
      "  st.t.interval(alpha=0.90, df=len(clean_data['Retweets'])-1, loc=np.mean(clean_data['Retweets']), scale=st.sem(clean_data['Retweets']))\n"
     ]
    },
    {
     "data": {
      "text/plain": [
       "(0.046901675247026264, 0.20706657872122763)"
      ]
     },
     "execution_count": 21,
     "metadata": {},
     "output_type": "execute_result"
    }
   ],
   "source": [
    "st.t.interval(alpha=0.90, df=len(clean_data['Retweets'])-1, loc=np.mean(clean_data['Retweets']), scale=st.sem(clean_data['Retweets'])) "
   ]
  },
  {
   "cell_type": "code",
   "execution_count": 72,
   "metadata": {},
   "outputs": [
    {
     "data": {
      "text/plain": [
       "KstestResult(statistic=0.23365607427637575, pvalue=0.001846621837978124)"
      ]
     },
     "execution_count": 72,
     "metadata": {},
     "output_type": "execute_result"
    }
   ],
   "source": [
    "# KS - test\n",
    "import scipy.stats as stats\n",
    "\n",
    "stats.kstest(clean_data[\"Likes\"], stats.norm.cdf, args=(clean_data[\"Likes\"].mean(), clean_data[\"Likes\"].std()))"
   ]
  },
  {
   "cell_type": "code",
   "execution_count": 73,
   "metadata": {},
   "outputs": [
    {
     "data": {
      "text/plain": [
       "KstestResult(statistic=0.5344008187258724, pvalue=4.5239794761264796e-17)"
      ]
     },
     "execution_count": 73,
     "metadata": {},
     "output_type": "execute_result"
    }
   ],
   "source": [
    "stats.kstest(clean_data[\"Comments\"], stats.norm.cdf, args=(clean_data[\"Comments\"].mean(), clean_data[\"Comments\"].std()))"
   ]
  },
  {
   "cell_type": "code",
   "execution_count": 74,
   "metadata": {},
   "outputs": [
    {
     "data": {
      "text/plain": [
       "KstestResult(statistic=0.5188605381046348, pvalue=4.782919163316906e-16)"
      ]
     },
     "execution_count": 74,
     "metadata": {},
     "output_type": "execute_result"
    }
   ],
   "source": [
    "stats.kstest(clean_data[\"Retweets\"], stats.norm.cdf, args=(clean_data[\"Retweets\"].mean(), clean_data[\"Retweets\"].std()))"
   ]
  },
  {
   "cell_type": "code",
   "execution_count": null,
   "metadata": {},
   "outputs": [],
   "source": [
    "# scatter plots"
   ]
  },
  {
   "cell_type": "code",
   "execution_count": null,
   "metadata": {},
   "outputs": [],
   "source": [
    "# correlation map "
   ]
  }
 ],
 "metadata": {
  "kernelspec": {
   "display_name": "Python 3",
   "language": "python",
   "name": "python3"
  },
  "language_info": {
   "codemirror_mode": {
    "name": "ipython",
    "version": 3
   },
   "file_extension": ".py",
   "mimetype": "text/x-python",
   "name": "python",
   "nbconvert_exporter": "python",
   "pygments_lexer": "ipython3",
   "version": "3.10.7"
  },
  "orig_nbformat": 4
 },
 "nbformat": 4,
 "nbformat_minor": 2
}
