{
 "cells": [
  {
   "cell_type": "code",
   "execution_count": 13,
   "metadata": {},
   "outputs": [
    {
     "name": "stdout",
     "output_type": "stream",
     "text": [
      "DROP TABLE IF EXISTS market.instagram CASCADE ;\n",
      "DROP TABLE IF EXISTS market.instagram_hashtag CASCADE;\n",
      "DROP TABLE IF EXISTS market.instagram_hash_post CASCADE;\n",
      "\n",
      "\n",
      "\n",
      "CREATE TABLE market.instagram(\n",
      "    id VARCHAR(255) PRIMARY KEY,\n",
      "    type VARCHAR(255), \n",
      "    commentsCount FLOAT,\n",
      "    likesCount FLOAT,\n",
      "    ig_timestamp timestamp,\n",
      "    videoViewCount FLOAT,\n",
      "    videoPlayCount FLOAT,\n",
      "    videoDuration FLOAT    \n",
      ");\n",
      "CREATE TABLE market.instagram_hashtag(\n",
      "    index_num int PRIMARY KEY,\n",
      "    hashtag VARCHAR(255)\n",
      ");\n",
      "CREATE TABLE market.instagram_hash_post(\n",
      "    row_index INT PRIMARY KEY,\n",
      "    ID VARCHAR(255) REFERENCES market.instagram(id),\n",
      "    hashtag_index int REFERENCES market.instagram_hashtag(index_num)\n",
      ");\n",
      "\n"
     ]
    }
   ],
   "source": [
    "import psycopg2\n",
    "import psycopg2.extras\n",
    "import csv\n",
    "from config import params\n",
    "\n",
    "conn = psycopg2.connect(**params)\n",
    "\n",
    "with conn.cursor() as cursor:\n",
    "    with open('/Users/ezequielesparza/TKH-Social-Media-Engagement-Analytics/instagram_analytics/instagram.sql', 'r') as schema:\n",
    "        queries = schema.read()\n",
    "        print(queries)\n",
    "        cursor.execute(queries)\n",
    "\n",
    "\n",
    "    try:\n",
    "        conn.commit()\n",
    "    except Exception as e:\n",
    "        print(e)\n",
    "        conn.rollback()\n"
   ]
  },
  {
   "cell_type": "code",
   "execution_count": 15,
   "metadata": {},
   "outputs": [],
   "source": [
    "conn = psycopg2.connect(**params)\n",
    "\n",
    "with conn.cursor() as cursor:\n",
    "    \n",
    "    with open('/Users/ezequielesparza/TKH-Social-Media-Engagement-Analytics/data/without_hashtags.csv', 'r') as f:    \n",
    "        cmd = 'COPY market.instagram FROM STDIN WITH (FORMAT CSV, HEADER TRUE)'\n",
    "        cursor.copy_expert(cmd, f)\n",
    "\n",
    "    with open('/Users/ezequielesparza/TKH-Social-Media-Engagement-Analytics/data/just_hashtags', 'r') as f:    \n",
    "        cmd = 'COPY market.instagram_hashtag FROM STDIN WITH (FORMAT CSV, HEADER TRUE)'\n",
    "        cursor.copy_expert(cmd, f)\n",
    "\n",
    "    with open('/Users/ezequielesparza/TKH-Social-Media-Engagement-Analytics/data/primary_table.csv', 'r') as f:    \n",
    "        cmd = 'COPY market.instagram_hash_post FROM STDIN WITH (FORMAT CSV, HEADER TRUE)'\n",
    "        cursor.copy_expert(cmd, f)\n",
    "\n",
    "\n",
    "    \n",
    "    conn.commit()"
   ]
  }
 ],
 "metadata": {
  "kernelspec": {
   "display_name": "Python 3",
   "language": "python",
   "name": "python3"
  },
  "language_info": {
   "codemirror_mode": {
    "name": "ipython",
    "version": 3
   },
   "file_extension": ".py",
   "mimetype": "text/x-python",
   "name": "python",
   "nbconvert_exporter": "python",
   "pygments_lexer": "ipython3",
   "version": "3.10.7"
  },
  "orig_nbformat": 4
 },
 "nbformat": 4,
 "nbformat_minor": 2
}
