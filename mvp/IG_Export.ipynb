{
 "cells": [
  {
   "cell_type": "code",
   "execution_count": null,
   "metadata": {},
   "outputs": [],
   "source": [
    "import psycopg2\n",
    "import psycopg2.extras\n",
    "import csv\n",
    "import os\n",
    "\n",
    "# aws rds \n",
    "\"\"\"\n",
    "params = {\n",
    "    \"host\"      : \"rds-pg-jobs.chfavwsr5bmp.us-east-1.rds.amazonaws.com\",\n",
    "    \"dbname\"    : \"postgres\",\n",
    "    \"user\"      : \"postgres\",\n",
    "    \"password\"  : \"secret\",\n",
    "    \"port\" : \"5432\"     \n",
    "}\n",
    "\"\"\"\n",
    "\n",
    "params = {\n",
    "    \"host\"      : \"localhost\",\n",
    "    \"dbname\"    : \"postgres\",\n",
    "    \"user\"      : \"postgres\",\n",
    "    \"password\"  : \"password\",\n",
    "    \"port\" : \"5434\"     \n",
    "}\n",
    "\n",
    "# ** --> dictionary unpacking!\n",
    "conn = psycopg2.connect(**params)\n",
    "\n",
    "# with is something called a context manager : opens and closes a connection for you\n",
    "with conn.cursor() as cursor:\n",
    "    # READ FILES IN PYTHON\n",
    "    # SPRINT 5 (already complete) (in other file)\n",
    "    '''\n",
    "    with open('phase_3/week_6/4_25/schema.sql', 'r') as schema:\n",
    "        # read --> reads in entire file\n",
    "        queries = schema.read()\n",
    "        print(queries)\n",
    "        # we are starting a transaction (or continuing)\n",
    "        cursor.execute(queries)\n",
    "    # commit your changes\n",
    "    conn.commit()\n",
    "    '''\n",
    "\n",
    "    # (PART OF) SPRINT 6\n",
    "    # DUE UNTIL 5/10 (WEDNESDAY OF NEXT WEEK)\n",
    "    with open('phase_3/week_7/data/customers.csv', 'r') as f:    \n",
    "        cmd = 'COPY store.customer(cust_id, fname, lname, account_create) FROM STDIN WITH (FORMAT CSV, HEADER FALSE)'\n",
    "        cursor.copy_expert(cmd, f)\n",
    "    conn.commit()"
   ]
  }
 ],
 "metadata": {
  "language_info": {
   "name": "python"
  },
  "orig_nbformat": 4
 },
 "nbformat": 4,
 "nbformat_minor": 2
}
